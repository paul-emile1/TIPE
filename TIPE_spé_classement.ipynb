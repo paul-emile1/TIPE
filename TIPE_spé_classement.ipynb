{
  "cells": [
    {
      "cell_type": "markdown",
      "metadata": {
        "id": "view-in-github",
        "colab_type": "text"
      },
      "source": [
        "<a href=\"https://colab.research.google.com/github/paul-emile1/TIPE/blob/main/TIPE_sp%C3%A9_classement.ipynb\" target=\"_parent\"><img src=\"https://colab.research.google.com/assets/colab-badge.svg\" alt=\"Open In Colab\"/></a>"
      ]
    },
    {
      "cell_type": "markdown",
      "metadata": {
        "id": "NucTXGoAPlZf"
      },
      "source": [
        "###**INTRODUCTION ET DEBUT DU TRAITEMENT DES DONNEES**\n",
        "Création d'un classement de tennis grâce à un algortime de Perron-Frobenius.\n",
        "\n",
        "\n"
      ]
    },
    {
      "cell_type": "code",
      "execution_count": null,
      "metadata": {
        "colab": {
          "base_uri": "https://localhost:8080/"
        },
        "id": "WOUiU4Iy4np1",
        "outputId": "1cd460b8-0cab-4917-b264-396dad79e514"
      },
      "outputs": [
        {
          "output_type": "stream",
          "name": "stdout",
          "text": [
            "Mounted at /content/drive\n"
          ]
        }
      ],
      "source": [
        "import pandas as pd\n",
        "import numpy as np\n",
        "import matplotlib.pyplot as plt\n",
        "from google.colab import drive\n",
        "from sklearn import preprocessing\n",
        "from sklearn.preprocessing import OneHotEncoder\n",
        "import seaborn as sns\n",
        "from datetime import timedelta\n",
        "from datetime import *\n",
        "from random import *\n",
        "import copy\n",
        "from math import *\n",
        "from time import *\n",
        "from datetime import timedelta, datetime\n",
        "color = sns.color_palette()\n",
        "sns.set_style('darkgrid')\n",
        "\n",
        "drive.mount('/content/drive')"
      ]
    },
    {
      "cell_type": "code",
      "execution_count": null,
      "metadata": {
        "id": "SdirY45b778g"
      },
      "outputs": [],
      "source": [
        "# Chargement du dataset/supression des colonnes avec des données manquantes\n",
        "\n",
        "data = pd.read_csv('/content/drive/MyDrive/TIPE/DATASET_INITIAL.csv')\n",
        "data = data.dropna()\n",
        "data = data.reset_index(drop=True)"
      ]
    },
    {
      "cell_type": "code",
      "execution_count": null,
      "metadata": {
        "id": "IOBxbsqJT5ed"
      },
      "outputs": [],
      "source": [
        "#Convertissement des données en type int\n",
        "\n",
        "data['Player1Rank'] = pd.to_numeric(data['Player1Rank'])\n",
        "data['Player2Rank'] = pd.to_numeric(data['Player2Rank'])\n",
        "data['Player1Sets'] = pd.to_numeric(data['Player2Sets'])\n",
        "data['Date'] = pd.to_datetime(data.Date)"
      ]
    },
    {
      "cell_type": "code",
      "execution_count": null,
      "metadata": {
        "id": "uj_2L3_PWcPW"
      },
      "outputs": [],
      "source": [
        "winner = data['Winner'].copy()"
      ]
    },
    {
      "cell_type": "code",
      "execution_count": null,
      "metadata": {
        "id": "mVZZvjT7yzeV"
      },
      "outputs": [],
      "source": [
        "#Player 1 = mieux classé ATP\n",
        "\n",
        "def rename(data):\n",
        "  for k in range(data.shape[0]):\n",
        "    if data.iloc[k,5]>data.iloc[k,12]:\n",
        "      data.iloc[k,0],data.iloc[k,1]=data.iloc[k,1],data.iloc[k,0]\n",
        "      data.iloc[k,4],data.iloc[k,11]=data.iloc[k,11],data.iloc[k,4]\n",
        "      data.iloc[k,5],data.iloc[k,12]=data.iloc[k,12],data.iloc[k,5]\n",
        "      data.iloc[k,6],data.iloc[k,13]=data.iloc[k,13],data.iloc[k,6]\n",
        "      data.iloc[k,7],data.iloc[k,14]=data.iloc[k,14],data.iloc[k,7]\n",
        "  return data"
      ]
    },
    {
      "cell_type": "code",
      "execution_count": null,
      "metadata": {
        "id": "ZL3X02P8fneE"
      },
      "outputs": [],
      "source": [
        "data = rename(data)"
      ]
    },
    {
      "cell_type": "code",
      "execution_count": null,
      "metadata": {
        "id": "QojbeY5WXkAN"
      },
      "outputs": [],
      "source": [
        "data['Winner']= winner"
      ]
    },
    {
      "cell_type": "code",
      "execution_count": null,
      "metadata": {
        "id": "sUiNYt4p_cKz"
      },
      "outputs": [],
      "source": [
        "#Colonne Winner : 1 si P1 gagne 0 sino,\n",
        "def win(data):\n",
        "  for k in range(data.shape[0]):\n",
        "    m = min(data.iloc[k, 5], data.iloc[k, 12])\n",
        "    # Si P1 gagne...\n",
        "    if data.iloc[k,6]==data.iloc[k, 15]:\n",
        "      data.iloc[k,15] = 1\n",
        "    else:\n",
        "      data.iloc[k, 15] = 0\n",
        "  return data\n",
        "\n",
        "data = win(data)"
      ]
    },
    {
      "cell_type": "markdown",
      "metadata": {
        "id": "LVA_7v-rceJI"
      },
      "source": [
        "### **Transformation de certaines variables en variables muettes (dummy variables)**"
      ]
    },
    {
      "cell_type": "code",
      "execution_count": null,
      "metadata": {
        "id": "20DxLV7hsclI"
      },
      "outputs": [],
      "source": [
        "#Transformation des variables round et surface en variables muettes\n",
        "def round_number(x):\n",
        "    if x == '1st Round':\n",
        "        return 1\n",
        "    elif x == '2nd Round':\n",
        "        return 2\n",
        "    elif x == '3rd Round':\n",
        "        return 3\n",
        "    elif x == '4th Round':\n",
        "        return 4\n",
        "    elif x == 'Quarterfinals':\n",
        "        return 5\n",
        "    elif x == 'Semifinals':\n",
        "        return 6\n",
        "    elif x == 'The Final':\n",
        "        return 7\n",
        "\n",
        "data['Round'] = data['Round'].apply(round_number)\n",
        "\n",
        "dummy_ranks = pd.get_dummies(data['Round'], prefix='Round')\n",
        "\n",
        "data = data.join(dummy_ranks.loc[:, 'Round_1':])\n",
        "data[['Round_1','Round_2', 'Round_3',\n",
        "       'Round_4', 'Round_5', 'Round_6', 'Round_7']] = data[['Round_1.0','Round_2.0', 'Round_3.0','Round_4.0', 'Round_5.0', 'Round_6.0', 'Round_7.0']].astype('int_')\n",
        "data = data.drop(['Round_1.0','Round_2.0', 'Round_3.0','Round_4.0', 'Round_5.0', 'Round_6.0', 'Round_7.0'],axis = 1)"
      ]
    },
    {
      "cell_type": "code",
      "execution_count": null,
      "metadata": {
        "id": "az_jQQ-xzvjx"
      },
      "outputs": [],
      "source": [
        "dummy_ranks = pd.get_dummies(data['Surface'], prefix='Surface')"
      ]
    },
    {
      "cell_type": "code",
      "execution_count": null,
      "metadata": {
        "id": "2QcNl1MN2coQ"
      },
      "outputs": [],
      "source": [
        "data = data.join(dummy_ranks.loc[:, 'Surface_Clay':])\n",
        "data = data.drop(['Surface'], axis = 1)\n",
        "data[['Surface_Clay','Surface_Grass','Surface_Hard']] = data[['Surface_Clay','Surface_Grass','Surface_Hard']].astype('int_')\n",
        "data = data.drop([\"Round\"],axis = 1)"
      ]
    },
    {
      "cell_type": "markdown",
      "metadata": {
        "id": "hl_uAGrOE5YC"
      },
      "source": [
        "###**Indexation des joueurs : création d'un dictionnaire contenant en clé le nom de joueur et en valeur : [index du joueur,son nombre de victoire, total de matchs joués, meilleur classement en carrière]**"
      ]
    },
    {
      "cell_type": "code",
      "execution_count": null,
      "metadata": {
        "id": "tujSVTGrARiV"
      },
      "outputs": [],
      "source": [
        "###peut-être une meilleure manière d'encoder les joueurs\n",
        "index_joueurs_stats = {}\n",
        "#Dictionnaire contenant le nom des joueurs comme une clé [player_index,x,y,z,t,w]\n",
        "#x : nombres_de_matchs_gagnés\n",
        "#y : nombres_de_matchs_joués\n",
        "#z : meilleur classement en carrière (on le fixe par défaut à 3000)\n",
        "# t : date du dernier match\n",
        "# w : liste des h2h contre les autres joueurs\n",
        "i=0\n",
        "\n",
        "for player in data['Player1'].unique():\n",
        "    if player not in index_joueurs_stats.keys():\n",
        "        index_joueurs_stats[player] = [i,0,0,3000,0]\n",
        "        i+=1\n",
        "for player in data['Player2'].unique():\n",
        "    if player not in index_joueurs_stats.keys():\n",
        "        index_joueurs_stats[player] = [i,0,0,3000,0]\n",
        "        i+=1\n",
        "\n",
        "print('Nombre exact de joueurs : ',i)"
      ]
    },
    {
      "cell_type": "markdown",
      "metadata": {
        "id": "E7AnoMTOf4eo"
      },
      "source": [
        "###**Classement Elo**"
      ]
    },
    {
      "cell_type": "code",
      "execution_count": null,
      "metadata": {
        "id": "LbrUVuqb7r9h"
      },
      "outputs": [],
      "source": [
        "classement = {x: 1500 for x in index_joueurs_stats}\n",
        "nb_matchs = {x: 0 for x in index_joueurs_stats}\n",
        "K = {x : 40 for x in index_joueurs_stats}\n",
        "\n",
        "def classement_elo(data,classement,nb_matchs):\n",
        "\n",
        "  # Création d'une colonne elo_ranking\n",
        "  elo_p1 = np.zeros((data.shape[0], 1))\n",
        "  elo_p2 = np.zeros((data.shape[0], 1))\n",
        "  proba_win_best_ranked = np.zeros((data.shape[0], 1))\n",
        "\n",
        "  # On parcourt tous les matchs, puis on calcule la proba de gain du joueur le\n",
        "  # mieux classé contre le moins bien\n",
        "  for index, row in data.iterrows():\n",
        "    player1, player2 = row[6], row[11]\n",
        "    elo1, elo2 = classement[player1], classement[player2]\n",
        "    K1, K2 = K[player1], K[player2]\n",
        "\n",
        "    elo_p1[index, 0] = classement[player1]\n",
        "    elo_p2[index, 0] = classement[player2]\n",
        "\n",
        "\n",
        "    D = elo1 - elo2\n",
        "    if abs(D) > 400:\n",
        "      D = (D/abs(D))*400\n",
        "\n",
        "    # Proba de gain du joueur le mieux classé sur le pire\n",
        "    # Proba de gain de P1 sur P2\n",
        "    p = 1/(1 + 10**(-D/400))\n",
        "\n",
        "    proba_win_best_ranked[index, 0] = round(p,2)\n",
        "\n",
        "    if nb_matchs[player1]<=30:\n",
        "      K[player1] = 40\n",
        "    elif elo1 >= 2250 or K1==10:\n",
        "      K[player1] = 10\n",
        "    else:\n",
        "      K[player1] = 30\n",
        "\n",
        "    if nb_matchs[player2]<=30:\n",
        "      K[player2] = 40\n",
        "    elif elo2 >= 2250 or K[player2]==10:\n",
        "      K[player2] = 10\n",
        "    else:\n",
        "      K[player2] = 30\n",
        "\n",
        "\n",
        "\n",
        "\n",
        "    # Détermination de W, résultat réel\n",
        "    W = row[13]\n",
        "\n",
        "    # Actualisation du classement\n",
        "    classement[player1] = round(elo1 + K1*(W-p))\n",
        "    classement[player2] = round(elo2 + K2*(p-W))\n",
        "\n",
        "    nb_matchs[player1] += 1\n",
        "    nb_matchs[player2] += 1\n",
        "\n",
        "\n",
        "\n",
        "  return (elo_p1, elo_p2, proba_win_best_ranked)\n",
        "\n",
        "elo_p1, elo_p2, proba_win_best_ranked = classement_elo(data,classement,nb_matchs)\n",
        "\n",
        "# Insertion des colonnes elo_p1 et elo_p2\n",
        "data['elo_P1'] = elo_p1\n",
        "data['elo_P2'] = elo_p2\n",
        "data['proba_elo'] = proba_win_best_ranked"
      ]
    },
    {
      "cell_type": "markdown",
      "metadata": {
        "id": "vLDdSOArc8NE"
      },
      "source": [
        "###**Feature meilleur classement en carrière**"
      ]
    },
    {
      "cell_type": "code",
      "execution_count": null,
      "metadata": {
        "id": "zf_gWSglc63e"
      },
      "outputs": [],
      "source": [
        "data['Best_rank_p1'] = 0\n",
        "data['Best_rank_p2'] = 0\n",
        "\n",
        "for c, row in data.iterrows():\n",
        "  p1 = row[6]\n",
        "  p2 = row[11]\n",
        "  if row[5]<row[27]:\n",
        "    data.at[c, 'Best_rank_p1'] = row[5]\n",
        "    index_joueurs_stats[p1][3] = row[5]\n",
        "  else:\n",
        "    data.at[c, 'Best_rank_p1'] = index_joueurs_stats[p1][3]\n",
        "\n",
        "  if row[10]<index_joueurs_stats[p2][3]:\n",
        "    data.at[c, 'Best_rank_p2'] = row[10]\n",
        "    index_joueurs_stats[p2][3] = row[10]\n",
        "  else:\n",
        "    data.at[c, 'Best_rank_p2'] = index_joueurs_stats[p2][3]"
      ]
    },
    {
      "cell_type": "markdown",
      "metadata": {
        "id": "Idd3H8KN4ofZ"
      },
      "source": [
        "###**Features du pourcentage de victoires (saison en cours)**"
      ]
    },
    {
      "cell_type": "code",
      "execution_count": null,
      "metadata": {
        "id": "JZIOzL8olOKC"
      },
      "outputs": [],
      "source": [
        "index_joueurs_stats_clean = copy.deepcopy(index_joueurs_stats)\n",
        "tableau_ratio = np.zeros(((len(data)),2))\n",
        "date_limite = pd.to_datetime('2007-01-01')\n",
        "\n",
        "for c,row in data.iterrows():\n",
        "  if row[3]>=date_limite:\n",
        "    date_limite = pd.to_datetime(date_limite) + pd.DateOffset(years=1)\n",
        "    index_joueurs_stats = copy.deepcopy(index_joueurs_stats_clean)\n",
        "  score_p1 = index_joueurs_stats[row[6]]\n",
        "  score_p2 = index_joueurs_stats[row[11]]\n",
        "  if score_p1[2]<5:\n",
        "    tableau_ratio[c,0]=0.2\n",
        "  else:\n",
        "    tableau_ratio[c,0] =round(score_p1[1]/score_p1[2],2)\n",
        "  if score_p2[2]<5:\n",
        "    tableau_ratio[c,1]=0.2\n",
        "  else:\n",
        "    tableau_ratio[c,1] = round(score_p2[1]/score_p2[2],2)\n",
        "  if row[13]==1:\n",
        "    index_joueurs_stats[row[6]][0],index_joueurs_stats[row[6]][1],index_joueurs_stats[row[6]][2] = score_p1[0],score_p1[1]+1,score_p1[2]+1\n",
        "    index_joueurs_stats[row[11]][0],index_joueurs_stats[row[11]][1],index_joueurs_stats[row[11]][2] = score_p2[0],score_p2[1],score_p2[2]+1\n",
        "  else:\n",
        "    index_joueurs_stats[row[6]][0],index_joueurs_stats[row[6]][1],index_joueurs_stats[row[6]][2] = score_p1[0],score_p1[1],score_p1[2]+1\n",
        "    index_joueurs_stats[row[11]][0],index_joueurs_stats[row[11]][1],index_joueurs_stats[row[11]][2] = score_p2[0],score_p2[1]+1,score_p2[2]+1\n",
        "\n",
        "data['ratio_p1_saison'] = tableau_ratio[:,0]\n",
        "data['ratio_p2_saison'] = tableau_ratio[:,1]"
      ]
    },
    {
      "cell_type": "markdown",
      "metadata": {
        "id": "dKVlVhvHVNpE"
      },
      "source": [
        "## **Feature du pourcentage de vitoire (en carrière)**"
      ]
    },
    {
      "cell_type": "code",
      "execution_count": null,
      "metadata": {
        "id": "_UQtplirl4KQ"
      },
      "outputs": [],
      "source": [
        "index_joueurs_stats = copy.deepcopy(index_joueurs_stats_clean)\n",
        "tableau_ratio_1 = np.zeros(((len(data)),2))\n",
        "\n",
        "for c,row in data.iterrows():\n",
        "  score_p1 = index_joueurs_stats[row[6]]\n",
        "  score_p2 = index_joueurs_stats[row[11]]\n",
        "  if score_p1[2]<5:\n",
        "    tableau_ratio_1[c,0]=0.2\n",
        "  else:\n",
        "    tableau_ratio_1[c,0] =round(score_p1[1]/score_p1[2],2)\n",
        "  if score_p2[2]<5:\n",
        "    tableau_ratio_1[c,1]=0.2\n",
        "  else:\n",
        "    tableau_ratio_1[c,1] = round(score_p2[1]/score_p2[2],2)\n",
        "  if row[13]==1 :\n",
        "    index_joueurs_stats[row[6]][0],index_joueurs_stats[row[6]][1],index_joueurs_stats[row[6]][2] = score_p1[0],score_p1[1]+1,score_p1[2]+1\n",
        "    index_joueurs_stats[row[11]][0],index_joueurs_stats[row[11]][1],index_joueurs_stats[row[11]][2] = score_p2[0],score_p2[1],score_p2[2]+1\n",
        "  else:\n",
        "    index_joueurs_stats[row[6]][0],index_joueurs_stats[row[6]][1],index_joueurs_stats[row[6]][2] = score_p1[0],score_p1[1],score_p1[2]+1\n",
        "    index_joueurs_stats[row[11]][0],index_joueurs_stats[row[11]][1],index_joueurs_stats[row[11]][2] = score_p2[0],score_p2[1]+1,score_p2[2]+1\n",
        "\n",
        "data['ratio_p1_carrière'] = tableau_ratio_1[:,0]\n",
        "data['ratio_p2_carrière'] = tableau_ratio_1[:,1]"
      ]
    },
    {
      "cell_type": "markdown",
      "metadata": {
        "id": "HTb0phzwvUEU"
      },
      "source": [
        "**Fonction qui calcule la proba de gain avec le classement elo**"
      ]
    },
    {
      "cell_type": "code",
      "execution_count": null,
      "metadata": {
        "id": "GDy7SpzzuNed"
      },
      "outputs": [],
      "source": [
        "def calcul_proba_elo(pts_elo1, pts_elo2, seuil):\n",
        "  D = pts_elo1 - pts_elo2\n",
        "  if abs(D) > seuil:\n",
        "    D = (D/abs(D))*seuil\n",
        "\n",
        "  # Proba de gain de P1 sur P2\n",
        "  p = 1/(1 + 10**(-D/seuil))\n",
        "\n",
        "  return (p, 1-p)"
      ]
    },
    {
      "cell_type": "code",
      "execution_count": null,
      "metadata": {
        "id": "cW_cHAblgRD1"
      },
      "outputs": [],
      "source": [
        "!pip install fuzzywuzzy"
      ]
    },
    {
      "cell_type": "markdown",
      "metadata": {
        "id": "n8GVV49JgI0C"
      },
      "source": [
        "**Fonction basé sur la distance de levenstein pour harmoniser les noms des joueurs entre le classement et le dataset**"
      ]
    },
    {
      "cell_type": "code",
      "execution_count": null,
      "metadata": {
        "id": "JPjmFgGVgJJd"
      },
      "outputs": [],
      "source": [
        "from fuzzywuzzy import fuzz\n",
        "\n",
        "def abréviation_nom(nom_complet):\n",
        "    parties_nom = nom_complet.split()\n",
        "    nom_abrégé = parties_nom[-1]  + ' ' +''.join(parties_nom[0][0])+ '.'\n",
        "    return nom_abrégé\n",
        "\n",
        "def trouver_correspondance_nom(nom_inexact, liste_noms):\n",
        "    correspondance_score_max = 0\n",
        "    nom_correspondant = None\n",
        "    for nom_exact in liste_noms:\n",
        "        score = fuzz.partial_ratio(nom_inexact, nom_exact)\n",
        "        if score > correspondance_score_max:\n",
        "            correspondance_score_max = score\n",
        "            nom_correspondant = nom_exact\n",
        "    return nom_correspondant"
      ]
    },
    {
      "cell_type": "code",
      "source": [
        "def distance_levenshtein(mot1, mot2):\n",
        "    # On initialise une matrice de taille (longueur_mot1 + 1) x (longueur_mot2 + 1)\n",
        "    dist = [[0] * (len(mot2) + 1) for _ in range(len(mot1) + 1)]\n",
        "\n",
        "    # On initialise la première colonne avec les distances de 0 à la longueur du mot1\n",
        "    for i in range(len(mot1) + 1):\n",
        "        dist[i][0] = i\n",
        "\n",
        "    # On initialise la première ligne avec les distances de 0 à la longueur du mot2\n",
        "    for j in range(len(mot2) + 1):\n",
        "        dist[0][j] = j\n",
        "\n",
        "    # On calcule la distance de Levenshtein\n",
        "    for i in range(1, len(mot1) + 1):\n",
        "        for j in range(1, len(mot2) + 1):\n",
        "            cost = 0 if mot1[i - 1] == mot2[j - 1] else 1\n",
        "            dist[i][j] = min(dist[i - 1][j] + 1, dist[i][j - 1] + 1, dist[i - 1][j - 1] + cost)\n",
        "\n",
        "    # La distance de Levenshtein est le dernier élément de la matrice\n",
        "    return dist[len(mot1)][len(mot2)]\n",
        "\n",
        "def trouver_correspondance_nom_2(nom_inexact, liste_noms):\n",
        "    correspondance_score_min = float('inf')\n",
        "    nom_correspondant = None\n",
        "    for nom_exact in liste_noms:\n",
        "        distance = distance_levenshtein(nom_inexact, nom_exact)\n",
        "        if distance < correspondance_score_min:\n",
        "            correspondance_score_min = distance\n",
        "            nom_correspondant = nom_exact\n",
        "    return nom_correspondant"
      ],
      "metadata": {
        "id": "L8XibA3rVquL"
      },
      "execution_count": null,
      "outputs": []
    },
    {
      "cell_type": "markdown",
      "metadata": {
        "id": "CTXi0fpxgZh1"
      },
      "source": [
        "# **Création du dictionnaire dont les clés sont les dates (chaque premier du mois entre le 01-01-2015 et le 01-10-2023) et les valeurs les classements aux dates correspondantes stockés sous forme de liste**"
      ]
    },
    {
      "cell_type": "code",
      "execution_count": null,
      "metadata": {
        "id": "64CKZhzNMQvt"
      },
      "outputs": [],
      "source": [
        "import numpy as np\n",
        "\n",
        "###cette fonction permet de creer le classement pour une date donnée\n",
        "\n",
        "def classement_mois(date):\n",
        "  # Ici on récupère les données relatives à chacun des joueurs à la date directement disponible dans le dataset\n",
        "  # ie : pour un joueur : [classement_elo, ratio_saison, ratio_carrière]\n",
        "  stats_joueurs_pour_proba = {}\n",
        "  date_limite = pd.to_datetime(date)\n",
        "  date_limite_formatee = date_limite.strftime('%d-%m-%Y')\n",
        "  data_r = data[(data['Date']>=date_limite-timedelta(days=730)) & (data['Date']<=date_limite_formatee)]\n",
        "  data_r = data_r.reset_index(drop=True)\n",
        "  data_r['Date'] = data_r['Date'].dt.strftime('%d-%m-%Y')\n",
        "  for index, ligne in data_r.iterrows():\n",
        "    # Données joueur 1\n",
        "    stats_joueurs_pour_proba[ligne[6]] = [ligne[24], ligne[29], ligne[31]]\n",
        "\n",
        "    # Données joueur 2\n",
        "    stats_joueurs_pour_proba[ligne[11]] = [ligne[25], ligne[30], ligne[32]]\n",
        "\n",
        "\n",
        "  # On importe le classement ATP du 30/10/23 et on récupère les données de chaque joueur (100 premiers à l'ATP)\n",
        "  # NB : Nécessairement il ne reste donc que les joueurs (ayant joué un match ou plus les deux dernières années) ET (présent dans le top 100 ATP à la date)\n",
        "  atp_rkg = pd.read_csv(f'/content/drive/MyDrive/TIPE/classements atp/{date}.csv')\n",
        "  atp_rkg = atp_rkg[:100]\n",
        "  stats_joueurs_pour_proba_final = {}\n",
        "  liste_joueurs = stats_joueurs_pour_proba.keys()\n",
        "  print(liste_joueurs)\n",
        "  cpt_index = 0\n",
        "  for index, row in atp_rkg.iterrows():\n",
        "\n",
        "    name = row[1]\n",
        "    l = name.split(' ')\n",
        "    if len(l) >= 2:\n",
        "      name = trouver_correspondance_nom(abréviation_nom(name),liste_joueurs)\n",
        "    if name in liste_joueurs:\n",
        "      f_stats = stats_joueurs_pour_proba[name]\n",
        "      # STATS : [index, points ATP, classement ATP actuel, points elo, meilleur classement carrière ATP, Ratio saison, Ratio carrière]\n",
        "      stats = [cpt_index, row[4], row[0], f_stats[0], row[5]] + f_stats[1:]\n",
        "      stats_joueurs_pour_proba_final[name] = stats\n",
        "      cpt_index += 1\n",
        "      #print(cpt_index,name,stats,stats_joueurs_pour_proba_final[name])\n",
        "  print(stats_joueurs_pour_proba_final)\n",
        "\n",
        "\n",
        "\n",
        "\n",
        "  ###Cette fonction ajoute au dictionnaire stats_joueurs_pour_proba_final le nombre de matchs gagnés sur chaque autre joueur sous forme d'une liste\n",
        "\n",
        "  def get_h2h():\n",
        "    n = len(stats_joueurs_pour_proba_final)\n",
        "\n",
        "    for player1 in stats_joueurs_pour_proba_final:\n",
        "        p1_h2h = [0 for _ in range(n)]\n",
        "        cpt_p2 = 0\n",
        "\n",
        "        for player2 in stats_joueurs_pour_proba_final:\n",
        "          data_pour_h2h = data[((data['Player1'] == player1) & (data['Player2'] == player2 )) | ((data['Player1'] == player2) & (data['Player2'] == player1))]\n",
        "\n",
        "          match_p1 = 0\n",
        "          for index, row in data_pour_h2h.iterrows():\n",
        "            # S'il est player1, mieux classé et winner = 1 OU player2, moins bien classé et winner = 0\n",
        "            if (row[6] == player1 and row[13]==1) or (row[11]==player1 and row[13]==0):\n",
        "              match_p1 += 1\n",
        "\n",
        "          p1_h2h[cpt_p2] = match_p1\n",
        "          cpt_p2 += 1\n",
        "        stats_joueurs_pour_proba_final[player1].append(p1_h2h)\n",
        "\n",
        "  get_h2h()\n",
        "\n",
        "\n",
        "  ### Cette fonction calucle la proba de victoire d'un joueur j sur un joueur i en se basant sur la formule du classement élo adaptée à plusieurs statistiques\n",
        "\n",
        "  def calcul_proba(player1, player2):\n",
        "    stats1, stats2 = stats_joueurs_pour_proba_final[player1], stats_joueurs_pour_proba_final[player2]\n",
        "\n",
        "    # Calcul proba elo\n",
        "    p1_elo, p2_elo = calcul_proba_elo(stats1[3], stats2[3], 400)\n",
        "\n",
        "    # Calcul proba ATP\n",
        "    p1_atp, p2_atp = calcul_proba_elo(stats1[1], stats2[1], 3000)\n",
        "\n",
        "    # Calcul proba classement ATP\n",
        "    p1_catp, p2_catp = calcul_proba_elo(stats1[2], stats2[2], 40)\n",
        "\n",
        "    # Calcul proba ratio saison\n",
        "    p1_rs, p2_rs = calcul_proba_elo(stats1[5], stats2[5], 0.4)\n",
        "\n",
        "    # Calcul proba h2h\n",
        "    h2h_tot = stats1[7][stats2[0]] + stats2[7][stats1[0]]\n",
        "    if h2h_tot >= 5:\n",
        "      p1_h2h, p2_h2h = calcul_proba_elo(stats1[7][stats2[0]], stats2[7][stats1[0]], 10)\n",
        "\n",
        "      # Calcul proba finale\n",
        "      p = (50*p1_elo + 25*p1_rs + 25*p1_h2h)/100\n",
        "    else:\n",
        "      p = (70*p1_elo + 30*p1_rs)/100\n",
        "\n",
        "    return (p, 1-p)\n",
        "\n",
        "  ### Création de la matrice de transition\n",
        "  dict_index_nom = {stats_joueurs_pour_proba_final[player][0]:player for player in stats_joueurs_pour_proba_final}\n",
        "  print(dict_index_nom)\n",
        "\n",
        "  n = len(stats_joueurs_pour_proba_final)\n",
        "  matrice_transition = [[0 for _ in range(n)] for _ in range(n)]\n",
        "  for j in range(n):\n",
        "    somme = 0\n",
        "\n",
        "    # On remplit la colonne j\n",
        "    for i in range(n):\n",
        "      if i !=j :\n",
        "        pji = calcul_proba(dict_index_nom[j], dict_index_nom[i])[0]\n",
        "        matrice_transition[i][j] = pji\n",
        "        somme += pji\n",
        "      else :\n",
        "        matrice_transition[i][j] = 0\n",
        "      if (i==0 or i==1 or i ==2) and (j==0 or j==1 or j==2) : print(matrice_transition[i][j],i,j)\n",
        "\n",
        "    #On normalise la colonne\n",
        "    for i in range(n):\n",
        "      matrice_transition[i][j] /= somme\n",
        "\n",
        "    matrice_transition = np.array(matrice_transition)\n",
        "\n",
        "\n",
        "  n = 100 # dimension de la matrice de transition\n",
        "\n",
        "\n",
        "  # Initialisation du vecteur\n",
        "  Y = np.array([[1/n] for _ in range(n)])\n",
        "\n",
        "  # Itération jusqu'à convergence\n",
        "  for i in range(1000):\n",
        "      tmp = np.dot(matrice_transition, Y)\n",
        "      Y = tmp / np.linalg.norm(tmp)\n",
        "      if i==0 or i == 9 or i==99 or i==999:\n",
        "        print ([Y[0],Y[1],Y[2]])\n",
        "\n",
        "  # Calcul de la valeur propre dominante\n",
        "  valeur_propre_dominante = np.dot(tmp.T, Y) / np.dot(Y.T, Y)\n",
        "  Y_normalized = Y / np.sum(Y)\n",
        "\n",
        "  # Triez les indices des états en fonction des valeurs du vecteur propre\n",
        "  classement_indices = np.argsort(Y_normalized, axis=0)[::-1]\n",
        "\n",
        "  # Création du classement\n",
        "  classement = [(indice, Y_normalized[indice][0]) for indice in classement_indices]\n",
        "\n",
        "  C = []\n",
        "  for i in range(len(classement)):\n",
        "    C.append(dict_index_nom[classement[i][0][0]])\n",
        "\n",
        "  return(C)\n",
        "\n",
        "\n",
        "\n",
        "### Cette fonction permet finalement creer le dictionnaire souhaité\n",
        "def obtenir_classements_personnels():\n",
        "    classements_personnels = {}\n",
        "    date_debut = datetime(2015, 1, 1)\n",
        "    date_fin = datetime(2023, 10, 1)\n",
        "    mois_actuel = date_debut\n",
        "\n",
        "    while mois_actuel <= date_fin:\n",
        "        # Vérifier si le mois actuel est dans la période à sauter\n",
        "        if mois_actuel.year == 2020 and mois_actuel.month >= 4 and mois_actuel.month <= 8:\n",
        "            # Passer au mois suivant sans rien faire\n",
        "            mois_suivant = mois_actuel.replace(month=mois_actuel.month + 1)\n",
        "            mois_actuel = mois_suivant\n",
        "            continue\n",
        "\n",
        "        # Calculer le premier jour du mois suivant\n",
        "        mois_suivant = mois_actuel.replace(day=1)\n",
        "        if mois_suivant.month == 12:\n",
        "            mois_suivant = mois_suivant.replace(year=mois_suivant.year + 1, month=1)\n",
        "        else:\n",
        "            mois_suivant = mois_suivant.replace(month=mois_suivant.month + 1)\n",
        "\n",
        "        # Obtenir le classement des joueurs pour le premier jour de ce mois\n",
        "        date_str = mois_actuel.strftime('%d-%m-%Y')\n",
        "        classement = classement_mois(date_str)\n",
        "\n",
        "        # Ajouter ce classement à la liste des classements mensuels\n",
        "        classements_personnels[mois_actuel.strftime('%Y-%m')] = classement\n",
        "\n",
        "        # Passer au mois suivant\n",
        "        mois_actuel = mois_suivant\n",
        "\n",
        "    return classements_personnels\n",
        "\n",
        "# Obtention des classements mensuels\n",
        "classements_personnels = obtenir_classements_personnels()\n",
        "\n",
        "\n"
      ]
    },
    {
      "cell_type": "code",
      "execution_count": null,
      "metadata": {
        "id": "ynO3kwDYglsL"
      },
      "outputs": [],
      "source": [
        "### je ne garde dans le dataset initial que les matchs à partir du 01-01-2015\n",
        "\n",
        "data = data[data['Date']>='2015-01-01']\n",
        "data = data.reset_index(drop=True)\n",
        "\n",
        "#Supression des matchs impliquant des joueurs au delà de la 100ème place ATP(ceux qui n'ont pas de classement)\n",
        "for c, row in data.iterrows():\n",
        "  if (row[5]>100 or row[10]>100):\n",
        "    data = data.drop([c], axis = 0)\n",
        "data = data.reset_index(drop=True)"
      ]
    },
    {
      "cell_type": "markdown",
      "metadata": {
        "id": "QMWhVcf8ifYY"
      },
      "source": [
        "# **Création d'un nouveau dataset dans lequel les colonnes classement sont remplies avec mon classement**"
      ]
    },
    {
      "cell_type": "code",
      "execution_count": null,
      "metadata": {
        "id": "pFzjZyOY0UaY"
      },
      "outputs": [],
      "source": [
        "import pandas as pd\n",
        "from datetime import datetime\n",
        "\n",
        "def mettre_a_jour_classements(data, classements_personnels):\n",
        "    # Créer une copie du dataset original pour le nouveau dataset\n",
        "    data_my_rank = data.copy()\n",
        "\n",
        "    # Convertir la colonne de dates en format datetime\n",
        "    data_my_rank.iloc[:, 3] = pd.to_datetime(data_my_rank.iloc[:, 3])\n",
        "\n",
        "    # Fonction pour obtenir le classement d'un joueur à une date donnée\n",
        "    def obtenir_classement_joueur(joueur, date_match):\n",
        "        date_str = date_match.strftime('%Y-%m')\n",
        "        classement_mois = classements_personnels.get(date_str, [])\n",
        "        try:\n",
        "            classement_joueur = len(classement_mois) - classement_mois.index(joueur)\n",
        "        except ValueError:\n",
        "            classement_joueur = float('NaN')\n",
        "        return classement_joueur\n",
        "\n",
        "    # Mettre à jour les colonnes de classement des joueurs dans le nouveau dataset\n",
        "    for index, row in data_my_rank.iterrows():\n",
        "        date_match = row[3]\n",
        "        nom_joueur1 = row[6]\n",
        "        nom_joueur2 = row[11]\n",
        "        classement_joueur1 = obtenir_classement_joueur(nom_joueur1, date_match)\n",
        "        classement_joueur2 = obtenir_classement_joueur(nom_joueur2, date_match)\n",
        "        data_my_rank.at[index, 'Player1Rank'] = classement_joueur1\n",
        "        data_my_rank.at[index, 'Player2Rank'] = classement_joueur2\n",
        "\n",
        "    return data_my_rank\n",
        "\n",
        "data_my_rank = mettre_a_jour_classements(data, classements_personnels)\n"
      ]
    },
    {
      "cell_type": "code",
      "execution_count": null,
      "metadata": {
        "id": "u6-3Qk2E1WW2"
      },
      "outputs": [],
      "source": [
        "data = data.dropna()\n",
        "data = data.reset_index(drop=True)\n",
        "\n",
        "data_my_rank = data_my_rank.dropna()\n",
        "data_my_rank = data_my_rank.reset_index(drop=True)"
      ]
    },
    {
      "cell_type": "markdown",
      "metadata": {
        "id": "65LctXh-it26"
      },
      "source": [
        "# **Petite étude statistique**"
      ]
    },
    {
      "cell_type": "code",
      "execution_count": null,
      "metadata": {
        "id": "4UUkdOFW8b7x"
      },
      "outputs": [],
      "source": [
        "### Je crée un dictionnaire identique à celui créé précédemment mais pour le classement ATP\n",
        "\n",
        "import os\n",
        "classements_personnels = classements_personnels\n",
        "def charger_classements_atp(classements_personnels):\n",
        "    classements_atp = {}\n",
        "    chemin_dossier = '/content/drive/MyDrive/TIPE/classements atp'\n",
        "    for fichier in os.listdir(chemin_dossier):\n",
        "        if fichier.endswith('.csv') and len(fichier) == 14:  # Vérifier si le fichier est au format jj-mm-aaaa.csv\n",
        "            nom_fichier = os.path.join(chemin_dossier, fichier)\n",
        "            df = pd.read_csv(nom_fichier)\n",
        "            mois_annee = fichier[6:10] + '-' + fichier[3:5]  # Format 'aaaa-mm'\n",
        "            # Sélectionner les 100 premiers joueurs du fichier et inverser l'ordre\n",
        "            joueurs = df.iloc[:100, 1].tolist()[::-1]  # Sélectionne les 100 premiers, colonne 2 (index 1), et inverse\n",
        "            # Aligner les noms de joueurs avec les classements personnels\n",
        "            joueurs = [trouver_correspondance_nom(abréviation_nom(joueur), classements_personnels[mois_annee]) for joueur in joueurs]\n",
        "            classements_atp[mois_annee] = joueurs\n",
        "    return classements_atp\n",
        "classements_atp = charger_classements_atp(classements_personnels)"
      ]
    },
    {
      "cell_type": "code",
      "execution_count": null,
      "metadata": {
        "id": "Tmke19FWKYIe"
      },
      "outputs": [],
      "source": [
        "import matplotlib.pyplot as plt\n",
        "\n",
        "import numpy as np\n",
        "\n",
        "def calculer_moyenne_variation(classements_personnels, classements_atp):\n",
        "    variations_totales = []\n",
        "    ecarts_types_totaux = []\n",
        "\n",
        "    # Parcourir tous les mois disponibles\n",
        "    for mois in classements_personnels.keys():\n",
        "        if mois in classements_atp:\n",
        "            classement_personnel_mois = classements_personnels[mois]\n",
        "            classement_atp_mois = classements_atp[mois]\n",
        "            # Calculer la variation de place pour chaque joueur\n",
        "            variations_par_joueur = [abs(classement_personnel_mois.index(joueur) - classement_atp_mois.index(joueur)) for joueur in classement_personnel_mois]\n",
        "            #Calculer l'écart type de la distribution de variation pour ce mois\n",
        "            ecart_type_mois = np.std(variations_par_joueur)\n",
        "            ecarts_types_totaux.append(ecart_type_mois)\n",
        "            # Calculer la variation moyenne pour ce mois\n",
        "            variation_moyenne = sum(variations_par_joueur) / len(variations_par_joueur)\n",
        "            variations_totales.append(variation_moyenne)\n",
        "    moyenne_variation = sum(variations_totales) / len(variations_totales)\n",
        "    ecart_type_variation = sum(ecarts_types_totaux) / len(ecarts_types_totaux)\n",
        "    return (moyenne_variation,ecart_type_variation,variations_totales,ecarts_types_totaux)\n",
        "\n",
        "moyenne_variation,ecart_type_variation,variations_totales,ecarts_types_totaux = calculer_moyenne_variation(classements_personnels, classements_atp)\n",
        "\n",
        "print(f\"La moyenne[resp. l'écart type] des variations de classement est de : {moyenne_variation} [resp. {ecart_type_variation}]\")\n",
        "\n",
        "import matplotlib.pyplot as plt\n",
        "import numpy as np\n",
        "from scipy.interpolate import interp1d\n",
        "\n",
        "# Calculer les positions des mois à afficher\n",
        "mois_a_afficher = [mois for i, mois in enumerate(mois) if i % 6 == 0]\n",
        "mois_numeriques = range(len(mois))\n",
        "\n",
        "# Tracer le graphique avec des paramètres ajustés\n",
        "plt.figure(figsize=(14, 8))  # Ajustement de la taille du graphique\n",
        "\n",
        "# Interpoler les données pour lisser la courbe\n",
        "interpolateur = interp1d(mois_numeriques, variations_totales, kind='cubic')\n",
        "mois_interpolés = np.linspace(mois_numeriques[0], mois_numeriques[-1], 1000)\n",
        "variations_interpolées = interpolateur(mois_interpolés)\n",
        "\n",
        "# Tracer la courbe lissée\n",
        "plt.plot(mois_interpolés, variations_interpolées, '-', linewidth=2, color='#4169E1', label='Variation moyenne de classement')\n",
        "\n",
        "# Paramètres d'axe et de légende\n",
        "plt.xlabel('Mois')\n",
        "plt.ylabel(\"Variation moyenne de classement\")\n",
        "plt.title('Variations moyennes de classement au fil du temps')\n",
        "plt.xticks(mois_numeriques[::6], mois_a_afficher, rotation=45)\n",
        "plt.legend(loc='upper left')\n",
        "plt.tight_layout()\n",
        "plt.show()\n"
      ]
    }
  ],
  "metadata": {
    "colab": {
      "provenance": [],
      "include_colab_link": true
    },
    "kernelspec": {
      "display_name": "Python 3",
      "name": "python3"
    },
    "language_info": {
      "name": "python"
    }
  },
  "nbformat": 4,
  "nbformat_minor": 0
}